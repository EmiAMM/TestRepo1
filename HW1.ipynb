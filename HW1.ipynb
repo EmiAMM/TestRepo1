{
 "cells": [
  {
   "cell_type": "markdown",
   "id": "08e17e56-e279-4bee-90fa-9ab6a8df94e7",
   "metadata": {},
   "source": [
    "## Homework #1\n",
    "\n",
    "### Dominique Farfán and Emily Mosquera"
   ]
  },
  {
   "cell_type": "markdown",
   "id": "db6c6658-9bf3-4641-9411-12c5390a9fef",
   "metadata": {},
   "source": [
    " 1. Write a program that prompts the user to enter the number of hours worked and hourly pay to calculate gross pay. Use the values of hours_worked=35 and pay_per_hour=2.75 to test the program (the result should be 96.25). You must use input() to read the values given by the user and float() to convert the string into a number of type float. (9 pts)"
   ]
  },
  {
   "cell_type": "code",
   "execution_count": 1,
   "id": "bded9dfa-6db2-40ea-b433-dc54eac2f867",
   "metadata": {},
   "outputs": [
    {
     "name": "stdout",
     "output_type": "stream",
     "text": [
      "Please enter the number of hours worked:35\n",
      "Please enter the hourly pay value:2.75\n",
      "The total amount to pay is 96.25\n"
     ]
    }
   ],
   "source": [
    "#Ask the user to enter the values. Assign the values to variables\n",
    "hours_worked = float (input(\"Please enter the number of hours worked:\"))\n",
    "pay_per_hour = float (input(\"Please enter the hourly pay value:\"))\n",
    "\n",
    "#Calculate the gross pay and naming it as Total\n",
    "Total=hours_worked*pay_per_hour\n",
    "\n",
    "#Display the result\n",
    "print (\"The total amount to pay is\", Total)"
   ]
  },
  {
   "cell_type": "markdown",
   "id": "5beae57b-366d-4e8d-8ef9-60d798da3139",
   "metadata": {},
   "source": [
    "2. Write a program that prompts the user to enter the number of hours worked and hourly pay to calculate gross pay. For the first 40 hours of work, hourly pay remains the same. However, after 40 hours of work, the hourly pay increases at a rate of 1.5 (example: if the payment is $1 for the firs t 40 hours, it increases to $1.5 from hour 41 and onwards). Use the values of hours_worked=45 and pay_time=10.75 to test the program (the result should be 510.625). (10 pts)"
   ]
  },
  {
   "cell_type": "code",
   "execution_count": 2,
   "id": "13aa1d01-ba20-4586-be73-383b0cb82558",
   "metadata": {},
   "outputs": [
    {
     "name": "stdout",
     "output_type": "stream",
     "text": [
      "Please enter the number of hours worked: 45\n",
      "Please enter the hourly pay value: 10.75\n",
      "The total amount to pay is 510.625\n"
     ]
    }
   ],
   "source": [
    "# Get the number of hours worked from the user\n",
    "hours_worked = float(input(\"Please enter the number of hours worked: \"))\n",
    "\n",
    "# Get the hourly pay rate from the user\n",
    "pay_per_hour = float(input(\"Please enter the hourly pay value: \"))\n",
    "\n",
    "# Check if the user worked overtime\n",
    "if hours_worked > 40:\n",
    "    # Calculate overtime pay and total pay\n",
    "    new_pay = pay_per_hour * 1.5\n",
    "    Total = 40 * pay_per_hour + (hours_worked - 40) * new_pay\n",
    "    print(\"The total amount to pay is\", Total)\n",
    "else:\n",
    "    # Calculate total pay without extra time\n",
    "    Total = hours_worked * pay_per_hour\n",
    "    print(\"The total amount to pay is\", Total)\n"
   ]
  },
  {
   "cell_type": "markdown",
   "id": "f5747f40-b30d-4cea-97ac-c67820747881",
   "metadata": {},
   "source": [
    "3. Write a program that asks for a student’s grade (between 0.0 and 1.0) and returns the corresponding letter. If the grade is out of range, print an error message. If the grade is between 0.0 and 1.0, the letter printed must follow the table below (12 pts)\n",
    "\n",
    "A – grade >= 0.9\n",
    "\n",
    "B – grade >= 0.8\n",
    "\n",
    "C – grade >= 0.7\n",
    "\n",
    "D – grade >= 0.6\n",
    "\n",
    "F – grade < 0.6"
   ]
  },
  {
   "cell_type": "code",
   "execution_count": 3,
   "id": "9e6a747e-98ba-4734-baad-567431d34426",
   "metadata": {},
   "outputs": [
    {
     "name": "stdout",
     "output_type": "stream",
     "text": [
      "Enter you grade between 0.0 and 1: 2\n",
      "Error: you must enter a number between 0.0 and 1.0\n"
     ]
    }
   ],
   "source": [
    "#Ask the student's grade\n",
    "grade = float(input(\"Enter you grade between 0.0 and 1: \"))\n",
    "\n",
    "#Conditions to select each letter depending on the range\n",
    "if 0.0 <= grade <=1.0:\n",
    "    if grade <= 1 and grade >= 0.9:\n",
    "        print('A')\n",
    "    elif grade >= 0.8:\n",
    "        print('B')\n",
    "    elif grade >= 0.7:\n",
    "        print('C')\n",
    "    elif grade >= 0.6:\n",
    "        print('D')\n",
    "    else:\n",
    "        print('F')\n",
    "        \n",
    "#Show the error message if it is out of range       \n",
    "else:\n",
    "    print(\"Error: you must enter a number between 0.0 and 1.0\")\n"
   ]
  },
  {
   "cell_type": "markdown",
   "id": "19e0de94-8315-41bc-83c3-5b7e7296c5b1",
   "metadata": {},
   "source": [
    "4. Write a program that prompts the user to enter the number of hours worked and hourly pay to calculate gross pay. For the first 40 hours of work, hourly pay remains the same. However, after 40 hours of work, the hourly pay increases at a rate of 1.5 (example: if the payment is $1 for the first 40 hours, it increases to $1.5 from hour41 and onwards). To calculate the gross salary, implement a function called calculate_payment(). Use the values of hours_worked=42 and pay_per_hour=2.50 to test the program (the result should be 107.50). (12 pts)"
   ]
  },
  {
   "cell_type": "code",
   "execution_count": 4,
   "id": "79a9ed61-fb33-4ef5-88b8-328b30f7af2d",
   "metadata": {},
   "outputs": [],
   "source": [
    "# Define a function to calculate payment based on hours worked and hourly pay\n",
    "def calculate_payment(hours_worked, pay_per_hour):\n",
    "    # Check if the employee has worked more than 40 hours\n",
    "    if hours_worked > 40:\n",
    "        # Calculate the new pay rate for overtime (1.5 times the regular rate)\n",
    "        new_pay = pay_per_hour * 1.5\n",
    "        \n",
    "        # Calculate the total payment including regular hours and overtime hours\n",
    "        Total = 40 * pay_per_hour + (hours_worked - 40) * new_pay\n",
    "        \n",
    "        # Print the gross pay\n",
    "        print(\"The total amount to pay is\", Total)\n",
    "    else:\n",
    "        # If no overtime, calculate the total payment for regular hours only\n",
    "        Total = hours_worked * pay_per_hour\n",
    "        \n",
    "        # Print the total payment\n",
    "        print(\"The total amount to pay is\", Total)"
   ]
  },
  {
   "cell_type": "code",
   "execution_count": 5,
   "id": "eaa6d61c-9eda-4a3d-9887-2d379817498b",
   "metadata": {},
   "outputs": [
    {
     "name": "stdout",
     "output_type": "stream",
     "text": [
      "Please enter the number of hours worked:42\n",
      "Please enter the hourly pay value:2.5\n",
      "The total amount to pay is 107.5\n"
     ]
    }
   ],
   "source": [
    "#Ask the user to enter the values. Assign the values to variables\n",
    "hours = float (input(\"Please enter the number of hours worked:\"))\n",
    "pay = float (input(\"Please enter the hourly pay value:\"))\n",
    "\n",
    "# Calculate gross pay\n",
    "calculate_payment(hours,pay)"
   ]
  },
  {
   "cell_type": "markdown",
   "id": "768215f6-eece-4c5d-86ef-dda8e26da135",
   "metadata": {},
   "source": [
    "5. Write a program that prompts the user for integers repeatedly until the user enters the word “Finish”. Once “Finish” is entered, the program will print the highest and lowest of the entered numbers. If the user enters something other than a number, the program should throw an error using the try/except functions. This erroneous value will be ignored. Enter 7, 2, Juana, 10 and it will print “Invalid value”, “Maximum 10”, “Minimum2”. (12 pts)"
   ]
  },
  {
   "cell_type": "code",
   "execution_count": 6,
   "id": "e76660dc-118c-48f8-a3cb-5c01c0750638",
   "metadata": {},
   "outputs": [
    {
     "name": "stdout",
     "output_type": "stream",
     "text": [
      "Please enter a number (Write 'Finish' to exit): 7\n",
      "Please enter a number (Write 'Finish' to exit): 2\n",
      "Please enter a number (Write 'Finish' to exit): Juana\n",
      "Invalid value\n",
      "Please enter a number (Write 'Finish' to exit): 10\n",
      "Please enter a number (Write 'Finish' to exit): Finish\n",
      "Maximum: 10\n",
      "Minimum: 2\n"
     ]
    }
   ],
   "source": [
    "#Empty list that will be filled with the input numbers\n",
    "numbers=[]\n",
    "\n",
    "# Open a loop\n",
    "while True:\n",
    "    \n",
    "    #Ask the user to enter an integer\n",
    "    num=input(\"Please enter a number (Write 'Finish' to exit): \")\n",
    "    \n",
    "    #Ending condition if the user enter Finish\n",
    "    if num==\"Finish\":\n",
    "        break\n",
    "    try:\n",
    "        #Try converting input to an integer\n",
    "        int_num = int(num)\n",
    "        #Add the elements to the list\n",
    "        numbers.append(int_num)\n",
    "        \n",
    "    except ValueError:\n",
    "        #Print an error message instead of raising an exception\n",
    "        print(\"Invalid value\")\n",
    "       \n",
    "    #Print the requested values from the list        \n",
    "print(\"Maximum:\",max(numbers))\n",
    "print(\"Minimum:\",min(numbers))"
   ]
  },
  {
   "cell_type": "markdown",
   "id": "bf4eb5b1-1bf4-4135-b1e0-a72888ade563",
   "metadata": {},
   "source": [
    "6. Write a program that receives as input two lists. The program should return a list that contains the common elements within the two lists. For example, you input list1=[2,5,8,10,12,15,18, 20], list2=[1,5,10,15,20, 25, 30, 35], and returns [5, 10, 15,20]. (12 pts)"
   ]
  },
  {
   "cell_type": "code",
   "execution_count": 7,
   "id": "2f9f1619-56ff-4c38-acb6-11b59a9a3e1e",
   "metadata": {},
   "outputs": [
    {
     "name": "stdout",
     "output_type": "stream",
     "text": [
      "Enter the first list of elements separated by commas: 2,5,8,10,12,15,18,20\n",
      "Enter the second list of elements separated by commas: 1,5,10,15,20,25,30,35\n",
      "The common elements are: ['5', '10', '15', '20']\n"
     ]
    }
   ],
   "source": [
    "#Ask the user to enter two lists\n",
    "list_1 = input(\"Enter the first list of elements separated by commas: \").split(',')\n",
    "list_2 = input(\"Enter the second list of elements separated by commas: \").split(',')\n",
    "\n",
    "#Find common elements using for and an empty list\n",
    "common_elements=[]\n",
    "for i in list_1:\n",
    "    if i in list_2 and i not in common_elements: \n",
    "        common_elements.append(i)\n",
    "        \n",
    "#Show the elements\n",
    "print(\"The common elements are:\", common_elements)"
   ]
  },
  {
   "cell_type": "markdown",
   "id": "f3a6ab59-830c-4516-92a5-f81bdb32e2a9",
   "metadata": {},
   "source": [
    "7. Write a program that receives the sentence=\"But what light can be seen there\", break the sentence into words, and then order the words from longest to shortest. Tip: put the words in a list and use the sort function. (15 pts)"
   ]
  },
  {
   "cell_type": "code",
   "execution_count": 8,
   "id": "bb8487d4-2d50-4161-8c9d-b8033ff46368",
   "metadata": {},
   "outputs": [
    {
     "name": "stdout",
     "output_type": "stream",
     "text": [
      "['light', 'there', 'what', 'seen', 'But', 'can', 'be']\n"
     ]
    }
   ],
   "source": [
    "# Define a sentence to be processed\n",
    "sentence = \"But what light can be seen there\"\n",
    "\n",
    "# Split the sentence into a list of words\n",
    "words = sentence.split()\n",
    "\n",
    "# Sort the words by their length in descending order (from longest words to shortest)\n",
    "words.sort(key=len, reverse=True)\n",
    "\n",
    "#Show the word\n",
    "print(words)\n"
   ]
  },
  {
   "cell_type": "markdown",
   "id": "ba0df397-b410-4620-b94f-69c60d729154",
   "metadata": {},
   "source": [
    "8. Write a program that receives a string and counts how many times each letter appears. . Tip: create a dictionary with the characters as keys and their counters as the corresponding values. Example, if the string is 'brontosaurus' the program should return the following dictionary: {'b': 1, 'r': 2, 'o': 2, 'n': 1, 't': 1, 's': 2, 'a': 1, 'u':2}. (12 pts)"
   ]
  },
  {
   "cell_type": "code",
   "execution_count": 9,
   "id": "cc9e1ec1-b6c3-4eb5-838e-2075a5668398",
   "metadata": {},
   "outputs": [
    {
     "name": "stdout",
     "output_type": "stream",
     "text": [
      "Enter a word: brontosaurus\n",
      "Counter({'r': 2, 'o': 2, 's': 2, 'u': 2, 'b': 1, 'n': 1, 't': 1, 'a': 1})\n"
     ]
    }
   ],
   "source": [
    "#Import Counter\n",
    "from collections import Counter\n",
    "\n",
    "#Empty list for characters\n",
    "list=[]\n",
    "\n",
    "#Ask the user to enter a string\n",
    "word = input(\"Enter a word: \")\n",
    "\n",
    "#Loop for keeping each character in the list\n",
    "for a in word:\n",
    "    list.append(a) \n",
    "    \n",
    "#Use counter to count as a dictionary\n",
    "counting=Counter(list)\n",
    "print(counting)"
   ]
  },
  {
   "cell_type": "code",
   "execution_count": null,
   "id": "894d1daf-4735-4516-84d1-c209a7737177",
   "metadata": {},
   "outputs": [],
   "source": []
  }
 ],
 "metadata": {
  "kernelspec": {
   "display_name": "Python 3 (ipykernel)",
   "language": "python",
   "name": "python3"
  },
  "language_info": {
   "codemirror_mode": {
    "name": "ipython",
    "version": 3
   },
   "file_extension": ".py",
   "mimetype": "text/x-python",
   "name": "python",
   "nbconvert_exporter": "python",
   "pygments_lexer": "ipython3",
   "version": "3.11.5"
  }
 },
 "nbformat": 4,
 "nbformat_minor": 5
}
